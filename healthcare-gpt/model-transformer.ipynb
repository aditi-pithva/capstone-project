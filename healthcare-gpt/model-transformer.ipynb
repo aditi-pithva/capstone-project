{
 "cells": [
  {
   "cell_type": "code",
   "execution_count": 1,
   "id": "f12d79ad-360e-4c42-9d24-59c50562b55e",
   "metadata": {},
   "outputs": [],
   "source": [
    "import re\n",
    "from datasets import load_dataset\n",
    "from transformers import GPT2Tokenizer, GPT2LMHeadModel, AdamW\n",
    "import torch\n",
    "from torch.utils.data import DataLoader"
   ]
  },
  {
   "cell_type": "code",
   "execution_count": null,
   "id": "5d416967-636d-4859-b82f-16a3ae027395",
   "metadata": {},
   "outputs": [
    {
     "data": {
      "application/vnd.jupyter.widget-view+json": {
       "model_id": "11e2183b275943289101199d6b34d37c",
       "version_major": 2,
       "version_minor": 0
      },
      "text/plain": [
       "Downloading data:   0%|          | 0/1219 [00:00<?, ?files/s]"
      ]
     },
     "metadata": {},
     "output_type": "display_data"
    }
   ],
   "source": [
    "# Step 1: Load and preprocess the dataset\n",
    "dataset = load_dataset(\"pubmed\", split=\"train\", trust_remote_code=True)\n",
    "\n",
    "def clean_text(text):\n",
    "    text = re.sub(r'\\[\\d+\\]', '', text)  # Remove citations\n",
    "    text = re.sub(r'\\s+', ' ', text)  # Remove extra spaces\n",
    "    text = re.sub(r'\\d+', '', text)  # Remove numbers\n",
    "    return text.strip()\n",
    "\n",
    "# Clean and preprocess the dataset\n",
    "dataset = dataset.map(lambda x: {\"text\": clean_text(x[\"text\"])})\n",
    "\n",
    "# Step 2: Initialize Tokenizer and Model\n",
    "tokenizer = GPT2Tokenizer.from_pretrained('gpt2')\n",
    "model = GPT2LMHeadModel.from_pretrained('gpt2')\n",
    "\n",
    "# Tokenize dataset for training\n",
    "def tokenize_function(examples):\n",
    "    return tokenizer(examples['text'], truncation=True, max_length=512, padding='max_length')\n",
    "\n",
    "tokenized_dataset = dataset.map(tokenize_function, batched=True)\n",
    "\n",
    "# Convert the tokenized dataset to a PyTorch DataLoader\n",
    "train_loader = DataLoader(tokenized_dataset, batch_size=4, shuffle=True)\n",
    "\n",
    "# Step 3: Fine-tune the model\n",
    "device = torch.device(\"cuda\" if torch.cuda.is_available() else \"cpu\")\n",
    "model.to(device)\n",
    "\n",
    "optimizer = AdamW(model.parameters(), lr=5e-5)\n",
    "\n",
    "model.train()\n",
    "for epoch in range(3):  # Training for 3 epochs\n",
    "    for batch in train_loader:\n",
    "        optimizer.zero_grad()\n",
    "        inputs = batch['input_ids'].to(device)\n",
    "        attention_mask = batch['attention_mask'].to(device)\n",
    "        \n",
    "        outputs = model(inputs, attention_mask=attention_mask, labels=inputs)\n",
    "        loss = outputs.loss\n",
    "        loss.backward()\n",
    "        optimizer.step()\n",
    "        \n",
    "        print(f\"Epoch: {epoch}, Loss: {loss.item()}\")\n",
    "\n",
    "# Step 4: Save the fine-tuned model and tokenizer\n",
    "model.save_pretrained(\"./fine-tuned-gpt2-pytorch\")\n",
    "tokenizer.save_pretrained(\"./fine-tuned-gpt2-pytorch\")"
   ]
  },
  {
   "cell_type": "code",
   "execution_count": null,
   "id": "de24e952-0227-4e3b-8dda-8b85b6feadfb",
   "metadata": {},
   "outputs": [],
   "source": []
  }
 ],
 "metadata": {
  "kernelspec": {
   "display_name": "Python 3 (ipykernel)",
   "language": "python",
   "name": "python3"
  },
  "language_info": {
   "codemirror_mode": {
    "name": "ipython",
    "version": 3
   },
   "file_extension": ".py",
   "mimetype": "text/x-python",
   "name": "python",
   "nbconvert_exporter": "python",
   "pygments_lexer": "ipython3",
   "version": "3.11.7"
  }
 },
 "nbformat": 4,
 "nbformat_minor": 5
}
